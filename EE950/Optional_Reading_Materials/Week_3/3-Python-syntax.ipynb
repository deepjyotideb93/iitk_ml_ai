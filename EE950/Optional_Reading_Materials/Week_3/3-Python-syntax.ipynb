{
 "cells": [
  {
   "cell_type": "markdown",
   "id": "fc587a75-d0cb-48cb-bd76-2a568856d973",
   "metadata": {},
   "source": [
    "## Basic operators\r\n",
    "\r\n",
    "In Python, there are different types of **operators** (special symbols) that operate on different values. Some of the basic operators include:\r\n",
    "\r\n",
    "- arithmetic operators\r\n",
    "  - **`+`** (addition)\r\n",
    "  - **`-`** (subtraction)\r\n",
    "  - **`*`** (multiplication)\r\n",
    "  - **`/`** (division)\r\n",
    "  - __`**`__ (exponent)\r\n",
    "- assignment operators\r\n",
    "  - **`=`** (assign a value)\r\n",
    "  - **`+=`** (add and re-assign; increment)\r\n",
    "  - **`-=`** (subtract and re-assign; decrement)\r\n",
    "  - **`*=`** (multiply and re-assign)\r\n",
    "- comparison operators (return either `True` or `False`)\r\n",
    "  - **`==`** (equal to)\r\n",
    "  - **`!=`** (not equal to)\r\n",
    "  - **`<`** (less than)\r\n",
    "  - **`<=`** (less than or equal to)\r\n",
    "  - **`>`** (greater than)\r\n",
    "  - **`>=`** (greater than or equal to)\r\n",
    "\r\n",
    "When multiple operators are used in a single expression, **operator precedence** determines which parts of the expression are evaluated in which order. Operators with higher precedence are evaluated first (like PEMDAS in math). Operators with the same precedence are evaluated from left to right.\r\n",
    "\r\n",
    "- `()` parentheses, for grouping\r\n",
    "- `**` exponent\r\n",
    "- `*`, `/` multiplication and division\r\n",
    "- `+`, `-` addition and subtraction\r\n",
    "- `==`, `!=`, `<`, `<=`, `>`, `>=` comparisons"
   ]
  },
  {
   "cell_type": "code",
   "execution_count": 3,
   "id": "1140cd5b-151d-492d-beaa-6bd7f552d335",
   "metadata": {},
   "outputs": [],
   "source": [
    "n1 = 10\n",
    "n2 = -3.\n",
    "n3 = 7.0\n",
    "n4 = -.5\n",
    "n5 = 1.11\n",
    "n6 = 9"
   ]
  },
  {
   "cell_type": "code",
   "execution_count": 4,
   "id": "e82fb576-32c5-486c-a31c-9f58a4718028",
   "metadata": {},
   "outputs": [
    {
     "data": {
      "text/plain": [
       "19"
      ]
     },
     "execution_count": 4,
     "metadata": {},
     "output_type": "execute_result"
    }
   ],
   "source": [
    "n1 + n6"
   ]
  },
  {
   "cell_type": "code",
   "execution_count": 6,
   "id": "2c988316-644e-4d95-a72c-7d57e7c550e5",
   "metadata": {},
   "outputs": [
    {
     "data": {
      "text/plain": [
       "18.11"
      ]
     },
     "execution_count": 6,
     "metadata": {},
     "output_type": "execute_result"
    }
   ],
   "source": [
    "n1 + n3 + n5"
   ]
  },
  {
   "cell_type": "code",
   "execution_count": 7,
   "id": "61dfe984-b843-4873-9858-f3d8c632a6f0",
   "metadata": {},
   "outputs": [
    {
     "data": {
      "text/plain": [
       "7.7700000000000005"
      ]
     },
     "execution_count": 7,
     "metadata": {},
     "output_type": "execute_result"
    }
   ],
   "source": [
    "n3 * n5"
   ]
  },
  {
   "cell_type": "markdown",
   "id": "3825c8b8-d908-48de-bce6-858efba99528",
   "metadata": {},
   "source": [
    "\\begin{equation}\n",
    "   (n_3)^{n_5}\n",
    "\\end{equation}"
   ]
  },
  {
   "cell_type": "code",
   "execution_count": 9,
   "id": "ce84ca29-911c-4fae-9e8b-038633d9719a",
   "metadata": {},
   "outputs": [
    {
     "data": {
      "text/plain": [
       "8.670793121567783"
      ]
     },
     "execution_count": 9,
     "metadata": {},
     "output_type": "execute_result"
    }
   ],
   "source": [
    "n3 ** n5  "
   ]
  },
  {
   "cell_type": "code",
   "execution_count": 11,
   "id": "5e7aad3a-f498-4a76-90ee-20b568c96a68",
   "metadata": {},
   "outputs": [
    {
     "data": {
      "text/plain": [
       "29"
      ]
     },
     "execution_count": 11,
     "metadata": {},
     "output_type": "execute_result"
    }
   ],
   "source": [
    "n6 = n6 + n1\n",
    "n6"
   ]
  },
  {
   "cell_type": "code",
   "execution_count": 13,
   "id": "641611d2-46a4-4ade-bb85-e1c32f6b6a7f",
   "metadata": {},
   "outputs": [
    {
     "data": {
      "text/plain": [
       "49"
      ]
     },
     "execution_count": 13,
     "metadata": {},
     "output_type": "execute_result"
    }
   ],
   "source": [
    "n6 += n1\n",
    "n6"
   ]
  },
  {
   "cell_type": "code",
   "execution_count": null,
   "id": "5285c316-5538-4fbd-833a-d1cdeab32f81",
   "metadata": {},
   "outputs": [],
   "source": []
  },
  {
   "cell_type": "code",
   "execution_count": 14,
   "id": "dbef9ec3-24ca-4108-88dc-6c67f48bbc4c",
   "metadata": {},
   "outputs": [
    {
     "data": {
      "text/plain": [
       "7.0"
      ]
     },
     "execution_count": 14,
     "metadata": {},
     "output_type": "execute_result"
    }
   ],
   "source": [
    "import operator \n",
    "\n",
    "operator.add(n1, n2)"
   ]
  },
  {
   "cell_type": "code",
   "execution_count": 15,
   "id": "524cb676-44c7-43ea-83bb-440ee3b650ca",
   "metadata": {},
   "outputs": [],
   "source": [
    "def plus(a, b):\n",
    "    return (a + b)"
   ]
  },
  {
   "cell_type": "code",
   "execution_count": 16,
   "id": "e4899a93-82fa-4453-9a99-a444ff763265",
   "metadata": {},
   "outputs": [
    {
     "data": {
      "text/plain": [
       "7"
      ]
     },
     "execution_count": 16,
     "metadata": {},
     "output_type": "execute_result"
    }
   ],
   "source": [
    "plus(3, 4)"
   ]
  },
  {
   "cell_type": "code",
   "execution_count": 18,
   "id": "a4146bd1-f6b5-4963-9a1c-30174c47e0a9",
   "metadata": {},
   "outputs": [],
   "source": [
    "def plus2(a,b):\n",
    "    a + b\n",
    "    #return"
   ]
  },
  {
   "cell_type": "code",
   "execution_count": 20,
   "id": "641caaff-3fd9-4c26-b50a-0bafffb73fdb",
   "metadata": {},
   "outputs": [],
   "source": [
    "plus2(3, 4)"
   ]
  },
  {
   "cell_type": "code",
   "execution_count": 22,
   "id": "ec24e2db-f33f-4ebd-b4b4-7777e7396d39",
   "metadata": {},
   "outputs": [
    {
     "data": {
      "text/plain": [
       "True"
      ]
     },
     "execution_count": 22,
     "metadata": {},
     "output_type": "execute_result"
    }
   ],
   "source": [
    "None == plus2(3,4)"
   ]
  },
  {
   "cell_type": "code",
   "execution_count": 26,
   "id": "d66f449e-79f2-461e-b87f-a483cb061324",
   "metadata": {},
   "outputs": [
    {
     "data": {
      "text/plain": [
       "'n1n3'"
      ]
     },
     "execution_count": 26,
     "metadata": {},
     "output_type": "execute_result"
    }
   ],
   "source": [
    "'n1' + 'n3'"
   ]
  },
  {
   "cell_type": "code",
   "execution_count": 27,
   "id": "f19a56f0-9d68-4c34-9e5c-9bddcbcb4bcd",
   "metadata": {},
   "outputs": [
    {
     "data": {
      "text/plain": [
       "'n6'"
      ]
     },
     "execution_count": 27,
     "metadata": {},
     "output_type": "execute_result"
    }
   ],
   "source": [
    "'n' + '6'"
   ]
  },
  {
   "cell_type": "code",
   "execution_count": 31,
   "id": "f2cba033-3a9f-45be-9c37-0865a9a73a85",
   "metadata": {},
   "outputs": [
    {
     "data": {
      "text/plain": [
       "49"
      ]
     },
     "execution_count": 31,
     "metadata": {},
     "output_type": "execute_result"
    }
   ],
   "source": [
    "eval('n6')"
   ]
  },
  {
   "cell_type": "code",
   "execution_count": 28,
   "id": "37dace9a-d8c8-4401-a82f-3f6c80f89049",
   "metadata": {},
   "outputs": [
    {
     "data": {
      "text/plain": [
       "int"
      ]
     },
     "execution_count": 28,
     "metadata": {},
     "output_type": "execute_result"
    }
   ],
   "source": [
    "type(n1)"
   ]
  },
  {
   "cell_type": "code",
   "execution_count": 29,
   "id": "e765a345-cc20-4f33-ab41-36397d1d9289",
   "metadata": {},
   "outputs": [
    {
     "data": {
      "text/plain": [
       "float"
      ]
     },
     "execution_count": 29,
     "metadata": {},
     "output_type": "execute_result"
    }
   ],
   "source": [
    "type(n3)"
   ]
  },
  {
   "cell_type": "code",
   "execution_count": 30,
   "id": "c745a22b-0d71-4753-8951-ff15d98a8b9c",
   "metadata": {},
   "outputs": [
    {
     "data": {
      "text/plain": [
       "float"
      ]
     },
     "execution_count": 30,
     "metadata": {},
     "output_type": "execute_result"
    }
   ],
   "source": [
    "type(n4)"
   ]
  },
  {
   "cell_type": "code",
   "execution_count": 32,
   "id": "ea4da4d7-7e3a-41be-8d0e-6a3daff3c66e",
   "metadata": {},
   "outputs": [
    {
     "data": {
      "text/plain": [
       "str"
      ]
     },
     "execution_count": 32,
     "metadata": {},
     "output_type": "execute_result"
    }
   ],
   "source": [
    "type('n6')"
   ]
  },
  {
   "cell_type": "code",
   "execution_count": null,
   "id": "2aa2a370-34b6-420f-a008-8c01b4153ea0",
   "metadata": {},
   "outputs": [],
   "source": []
  },
  {
   "cell_type": "code",
   "execution_count": 36,
   "id": "caf9616b-c646-4ec9-931c-2d0aade9d528",
   "metadata": {},
   "outputs": [
    {
     "name": "stdout",
     "output_type": "stream",
     "text": [
      "stat-1\n"
     ]
    }
   ],
   "source": [
    "stat1 = True\n",
    "stat2 = False\n",
    "\n",
    "if stat1:\n",
    "    print('stat-1')\n",
    "\n",
    "elif stat2:\n",
    "    print('stat-2')\n",
    "\n",
    "else:\n",
    "    print('both false')"
   ]
  },
  {
   "cell_type": "markdown",
   "id": "6d13c4cd-20b5-45c3-83db-1988e2c90086",
   "metadata": {},
   "source": [
    "### Python Data structures"
   ]
  },
  {
   "cell_type": "markdown",
   "id": "a84dbe0d-43ba-4950-8898-86faf1fd447e",
   "metadata": {},
   "source": [
    "  \n",
    "    * lists: [a, b, c]\n",
    "    * tuples: (a, b, c)\n",
    "    * dictionaries = hash tables:  {a:1, b:22, c:32}"
   ]
  },
  {
   "cell_type": "code",
   "execution_count": 38,
   "id": "e358ac46-65b8-4e9c-acbd-4193e8271bc0",
   "metadata": {},
   "outputs": [],
   "source": [
    "a = [1, 2, 3]"
   ]
  },
  {
   "cell_type": "code",
   "execution_count": 39,
   "id": "aa1e8cae-d880-4c9c-a233-f6a386be393c",
   "metadata": {},
   "outputs": [
    {
     "data": {
      "text/plain": [
       "list"
      ]
     },
     "execution_count": 39,
     "metadata": {},
     "output_type": "execute_result"
    }
   ],
   "source": [
    "type(a)"
   ]
  },
  {
   "cell_type": "code",
   "execution_count": 41,
   "id": "966e1581-74f3-4e57-a759-c22518b5d788",
   "metadata": {},
   "outputs": [
    {
     "data": {
      "text/plain": [
       "3"
      ]
     },
     "execution_count": 41,
     "metadata": {},
     "output_type": "execute_result"
    }
   ],
   "source": [
    "a[2]"
   ]
  },
  {
   "cell_type": "code",
   "execution_count": 42,
   "id": "086cdfb0-05ce-4695-8ba7-3de5f9096475",
   "metadata": {},
   "outputs": [],
   "source": [
    "#list slicing\n",
    "b = [ a[0], a[1] ] "
   ]
  },
  {
   "cell_type": "code",
   "execution_count": 43,
   "id": "5b526a52-dabd-4979-a69e-b52b9522ce79",
   "metadata": {},
   "outputs": [
    {
     "data": {
      "text/plain": [
       "[1, 2]"
      ]
     },
     "execution_count": 43,
     "metadata": {},
     "output_type": "execute_result"
    }
   ],
   "source": [
    "b"
   ]
  },
  {
   "cell_type": "code",
   "execution_count": 53,
   "id": "3d91e9f1-ce01-4948-9c3c-4f5216a55ea5",
   "metadata": {},
   "outputs": [
    {
     "data": {
      "text/plain": [
       "[1, 2, 3]"
      ]
     },
     "execution_count": 53,
     "metadata": {},
     "output_type": "execute_result"
    }
   ],
   "source": [
    "c = a[0:3]\n",
    "c"
   ]
  },
  {
   "cell_type": "code",
   "execution_count": 55,
   "id": "ced81aa3-5460-4da6-b4b4-b1fd85d186d7",
   "metadata": {},
   "outputs": [],
   "source": [
    "t = (1, 2, 3)\n"
   ]
  },
  {
   "cell_type": "code",
   "execution_count": 56,
   "id": "b80410a3-ac91-4996-8c37-59759c5f7846",
   "metadata": {},
   "outputs": [
    {
     "data": {
      "text/plain": [
       "tuple"
      ]
     },
     "execution_count": 56,
     "metadata": {},
     "output_type": "execute_result"
    }
   ],
   "source": [
    "type(t)"
   ]
  },
  {
   "cell_type": "code",
   "execution_count": 59,
   "id": "e313c348-1d72-4bb1-bdb4-828f4ac855b6",
   "metadata": {},
   "outputs": [],
   "source": [
    "j = [1, 2, 3]"
   ]
  },
  {
   "cell_type": "code",
   "execution_count": 60,
   "id": "abbffa2e-1029-41d6-96f5-2f307ab61c8e",
   "metadata": {},
   "outputs": [
    {
     "data": {
      "text/plain": [
       "list"
      ]
     },
     "execution_count": 60,
     "metadata": {},
     "output_type": "execute_result"
    }
   ],
   "source": [
    "type(j)"
   ]
  },
  {
   "cell_type": "code",
   "execution_count": 64,
   "id": "5e223d25-352e-4ac3-8600-f3e71a648e38",
   "metadata": {},
   "outputs": [],
   "source": [
    "dd = {'apple':1, 'banana':22, 'citrous':32}   # {key : values, ...}"
   ]
  },
  {
   "cell_type": "code",
   "execution_count": 68,
   "id": "ea36fbf1-118a-455e-a5e2-03ee4cefa599",
   "metadata": {},
   "outputs": [
    {
     "data": {
      "text/plain": [
       "32"
      ]
     },
     "execution_count": 68,
     "metadata": {},
     "output_type": "execute_result"
    }
   ],
   "source": [
    "dd['citrous']"
   ]
  },
  {
   "cell_type": "code",
   "execution_count": 71,
   "id": "5ef09fb5-de83-48cd-b4db-e42ae697d01f",
   "metadata": {},
   "outputs": [],
   "source": [
    "# immutables vs mutables\n",
    "if True:\n",
    "# Containers\n",
    "#1 str = (string) immutable\n",
    "#2 list = mutable\n",
    "    aa = [3, 4, 6, 'abc', 'carrot', True]\n",
    "#3 tuple = immutable || values indexed\n",
    "    bb = (3, 4, 6, 'ac', 'car', False)\n",
    "#4 set = mutable || values are not indexed at all\n",
    "    cc = {3, 5, 'dog', 'mouse'}\n",
    "#5 dict = mutable || key:value pairs  'key' is immutable\n",
    "    dd = {'name': 'Tushar', 'allergies': ['gluten', 'dust']}\n"
   ]
  },
  {
   "cell_type": "code",
   "execution_count": 72,
   "id": "fa699e19-a4ab-44cd-bc11-453999cb3fa7",
   "metadata": {},
   "outputs": [
    {
     "data": {
      "text/plain": [
       "{3, 5, 'dog', 'mouse'}"
      ]
     },
     "execution_count": 72,
     "metadata": {},
     "output_type": "execute_result"
    }
   ],
   "source": [
    "cc"
   ]
  },
  {
   "cell_type": "code",
   "execution_count": 73,
   "id": "23d41d31-55d7-45d4-a501-ef5826ba05dc",
   "metadata": {},
   "outputs": [],
   "source": [
    "cc = {3, 5, 'dog', 'mouse', 3, 10, 'dog'}"
   ]
  },
  {
   "cell_type": "code",
   "execution_count": 74,
   "id": "913ab525-b24e-4ed3-bf37-76956a144575",
   "metadata": {},
   "outputs": [
    {
     "data": {
      "text/plain": [
       "{10, 3, 5, 'dog', 'mouse'}"
      ]
     },
     "execution_count": 74,
     "metadata": {},
     "output_type": "execute_result"
    }
   ],
   "source": [
    "cc\n"
   ]
  },
  {
   "cell_type": "code",
   "execution_count": 75,
   "id": "8809f7de-8688-43a4-b3f6-98e686cfd405",
   "metadata": {},
   "outputs": [
    {
     "data": {
      "text/plain": [
       "[3, 4, 6, 'abc', 'carrot', True]"
      ]
     },
     "execution_count": 75,
     "metadata": {},
     "output_type": "execute_result"
    }
   ],
   "source": [
    "aa"
   ]
  },
  {
   "cell_type": "code",
   "execution_count": 76,
   "id": "0bd04df6-9ee7-4688-ace1-21e95de59edd",
   "metadata": {},
   "outputs": [],
   "source": [
    "aa += [5, '5']"
   ]
  },
  {
   "cell_type": "code",
   "execution_count": 77,
   "id": "76677446-26a1-4bfe-b6d2-81c26d7b111a",
   "metadata": {},
   "outputs": [
    {
     "data": {
      "text/plain": [
       "[3, 4, 6, 'abc', 'carrot', True, 5, '5']"
      ]
     },
     "execution_count": 77,
     "metadata": {},
     "output_type": "execute_result"
    }
   ],
   "source": [
    "aa"
   ]
  },
  {
   "cell_type": "code",
   "execution_count": 78,
   "id": "d4589e01-ee15-491b-a8a3-2f735e98a3c8",
   "metadata": {},
   "outputs": [
    {
     "data": {
      "text/plain": [
       "(3, 4, 6, 'ac', 'car', False)"
      ]
     },
     "execution_count": 78,
     "metadata": {},
     "output_type": "execute_result"
    }
   ],
   "source": [
    "bb"
   ]
  },
  {
   "cell_type": "code",
   "execution_count": 80,
   "id": "3cbe1aa4-5db6-4a59-9c45-87c02be9a4df",
   "metadata": {},
   "outputs": [],
   "source": [
    "bb += (5, '5')"
   ]
  },
  {
   "cell_type": "code",
   "execution_count": 81,
   "id": "520da7a3-f7cc-4706-a128-293f9eeb8815",
   "metadata": {},
   "outputs": [
    {
     "data": {
      "text/plain": [
       "(3, 4, 6, 'ac', 'car', False, 5, '5')"
      ]
     },
     "execution_count": 81,
     "metadata": {},
     "output_type": "execute_result"
    }
   ],
   "source": [
    "bb"
   ]
  },
  {
   "cell_type": "code",
   "execution_count": 83,
   "id": "703b8f00-a067-4dd6-9f0d-2f36108a2044",
   "metadata": {},
   "outputs": [
    {
     "data": {
      "text/plain": [
       "[1, 2, 3, 4, 1, 2, 3, 4]"
      ]
     },
     "execution_count": 83,
     "metadata": {},
     "output_type": "execute_result"
    }
   ],
   "source": [
    "[1, 2, 3, 4] * 2"
   ]
  },
  {
   "cell_type": "code",
   "execution_count": 84,
   "id": "13c055de-78f4-47fa-a672-fa4558f4ef0b",
   "metadata": {},
   "outputs": [
    {
     "data": {
      "text/plain": [
       "(1, 2, 3, 4, 1, 2, 3, 4)"
      ]
     },
     "execution_count": 84,
     "metadata": {},
     "output_type": "execute_result"
    }
   ],
   "source": [
    "(1, 2, 3, 4) * 2"
   ]
  },
  {
   "cell_type": "code",
   "execution_count": 85,
   "id": "414a3a3a-bf27-4f57-8ca7-feca62d50ae7",
   "metadata": {},
   "outputs": [
    {
     "data": {
      "text/plain": [
       "[3, 4, 6, 'abc', 'carrot', True, 5, '5']"
      ]
     },
     "execution_count": 85,
     "metadata": {},
     "output_type": "execute_result"
    }
   ],
   "source": [
    "aa"
   ]
  },
  {
   "cell_type": "code",
   "execution_count": 86,
   "id": "0e4f401b-bdc9-4bb1-8f98-12f0cfc329cc",
   "metadata": {},
   "outputs": [
    {
     "data": {
      "text/plain": [
       "(3, 4, 6, 'ac', 'car', False, 5, '5')"
      ]
     },
     "execution_count": 86,
     "metadata": {},
     "output_type": "execute_result"
    }
   ],
   "source": [
    "bb"
   ]
  },
  {
   "cell_type": "code",
   "execution_count": 87,
   "id": "f70b658d-f1f5-4850-a2ee-b8463df1d566",
   "metadata": {},
   "outputs": [
    {
     "data": {
      "text/plain": [
       "3"
      ]
     },
     "execution_count": 87,
     "metadata": {},
     "output_type": "execute_result"
    }
   ],
   "source": [
    "aa[0]"
   ]
  },
  {
   "cell_type": "code",
   "execution_count": 88,
   "id": "93a1fd42-5ff7-4181-9906-d5272b1faf66",
   "metadata": {},
   "outputs": [
    {
     "data": {
      "text/plain": [
       "'5'"
      ]
     },
     "execution_count": 88,
     "metadata": {},
     "output_type": "execute_result"
    }
   ],
   "source": [
    "aa[-1]"
   ]
  },
  {
   "cell_type": "code",
   "execution_count": 89,
   "id": "b7ab0ed7-7c4d-4292-980f-ecabf0bb2a34",
   "metadata": {},
   "outputs": [
    {
     "data": {
      "text/plain": [
       "'5'"
      ]
     },
     "execution_count": 89,
     "metadata": {},
     "output_type": "execute_result"
    }
   ],
   "source": [
    "bb[-1]"
   ]
  },
  {
   "cell_type": "code",
   "execution_count": 92,
   "id": "f4fbd0c3-a434-4526-b271-e3222a997829",
   "metadata": {},
   "outputs": [
    {
     "data": {
      "text/plain": [
       "(3, 4, 6, 'ac', 'car')"
      ]
     },
     "execution_count": 92,
     "metadata": {},
     "output_type": "execute_result"
    }
   ],
   "source": [
    "bb[:-3]"
   ]
  },
  {
   "cell_type": "code",
   "execution_count": 94,
   "id": "01a2dc33-096b-4bbc-a539-127216563dba",
   "metadata": {},
   "outputs": [
    {
     "data": {
      "text/plain": [
       "(3, 4, 6, 'ac', 'car', False, 5)"
      ]
     },
     "execution_count": 94,
     "metadata": {},
     "output_type": "execute_result"
    }
   ],
   "source": [
    "bb[:-1]"
   ]
  },
  {
   "cell_type": "code",
   "execution_count": 95,
   "id": "534465ae-919a-4000-8419-626a39eb2ea4",
   "metadata": {},
   "outputs": [
    {
     "data": {
      "text/plain": [
       "['gluten', 'dust']"
      ]
     },
     "execution_count": 95,
     "metadata": {},
     "output_type": "execute_result"
    }
   ],
   "source": [
    "dd['allergies']"
   ]
  },
  {
   "cell_type": "code",
   "execution_count": 98,
   "id": "f4fcf706-2d39-4803-8bf5-b846d05a969b",
   "metadata": {},
   "outputs": [
    {
     "data": {
      "text/plain": [
       "'gluten'"
      ]
     },
     "execution_count": 98,
     "metadata": {},
     "output_type": "execute_result"
    }
   ],
   "source": [
    "dd['allergies'][0]"
   ]
  },
  {
   "cell_type": "code",
   "execution_count": null,
   "id": "d7630e9b-a36f-44c2-a11f-3c559acc4b93",
   "metadata": {},
   "outputs": [],
   "source": []
  }
 ],
 "metadata": {
  "kernelspec": {
   "display_name": "Python 3 (ipykernel)",
   "language": "python",
   "name": "python3"
  },
  "language_info": {
   "codemirror_mode": {
    "name": "ipython",
    "version": 3
   },
   "file_extension": ".py",
   "mimetype": "text/x-python",
   "name": "python",
   "nbconvert_exporter": "python",
   "pygments_lexer": "ipython3",
   "version": "3.11.5"
  }
 },
 "nbformat": 4,
 "nbformat_minor": 5
}
